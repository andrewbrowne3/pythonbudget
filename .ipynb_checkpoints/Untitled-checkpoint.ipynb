{
 "cells": [
  {
   "cell_type": "code",
   "execution_count": 3,
   "id": "6cabdf63",
   "metadata": {},
   "outputs": [],
   "source": [
    "import matplotlib.pyplot as plt\n",
    "import sqlite3\n",
    "\n",
    "conn = sqlite3.connect('budget')\n",
    "c = conn.cursor()\n",
    "\n",
    "import matplotlib.pyplot as plt\n",
    "\n",
    "def budget():\n",
    "    c.execute('''CREATE TABLE IF NOT EXISTS budget (category text, amount real, date text)''')\n",
    "    c.execute('''CREATE TABLE IF NOT EXISTS bank_account (total_amount real, date text)''')\n",
    "    c.execute(\"SELECT total_amount FROM bank_account\")\n",
    "    result = c.fetchone()\n",
    "    if result is None:\n",
    "        initial_amount = float(input('Enter your initial bank account amount: '))\n",
    "        c.execute(\"INSERT INTO bank_account VALUES (?,?)\", (initial_amount, 'Initial'))\n",
    "    else:\n",
    "        initial_amount = result[0]\n",
    "    insert_statement = \"INSERT INTO budget VALUES (?,?,?)\"\n",
    "    expense_category = str(input('insert expense category: '))\n",
    "    expense_amount = float(input('insert amount in USD: '))\n",
    "    expense_date = str(input('insert date: '))\n",
    "    values = (expense_category, expense_amount, expense_date)\n",
    "    c.execute(insert_statement, values)\n",
    "    c.execute(\"UPDATE bank_account SET total_amount = total_amount - ? WHERE date = 'Initial'\", (expense_amount,))\n",
    "    c.execute(\"SELECT date, sum(amount) FROM budget GROUP BY date\")\n",
    "    expenses = c.fetchall()\n",
    "    dates, amounts = zip(*expenses)\n",
    "    total_expenses = sum(expense[1] for expense in expenses)\n",
    "    print(f'Total expenses: ${total_expenses:.2f}')\n",
    "    print(f'Remaining bank account balance: ${initial_amount - total_expenses:.2f}')\n",
    "    plt.bar(dates, amounts)\n",
    "    plt.xlabel('Date')\n",
    "    plt.ylabel('Expenses')\n",
    "    plt.title('Expenses over Time')\n",
    "    plt.xticks(rotation=270)\n",
    "    plt.show()\n",
    "    conn.commit()\n",
    "\n"
   ]
  },
  {
   "cell_type": "code",
   "execution_count": 5,
   "id": "0673c616",
   "metadata": {
    "scrolled": true
   },
   "outputs": [
    {
     "name": "stdout",
     "output_type": "stream",
     "text": [
      "insert expense category: TJx \n",
      "insert amount in USD: 150\n",
      "insert date: 02/01/23\n",
      "Total expenses: $300.00\n",
      "Remaining bank account balance: $1726.17\n"
     ]
    },
    {
     "data": {
      "image/png": "[encoded data removed]",
      "text/plain": [
       "<Figure size 432x288 with 1 Axes>"
      ]
     },
     "metadata": {
      "needs_background": "light"
     },
     "output_type": "display_data"
    }
   ],
   "source": [
    "budget()\n"
   ]
  },
  {
   "cell_type": "code",
   "execution_count": 7,
   "id": "867328cb",
   "metadata": {},
   "outputs": [
    {
     "name": "stdout",
     "output_type": "stream",
     "text": [
      "insert expense category: Cash deposit\n",
      "insert amount in USD: -40\n",
      "insert date: 02/02/23\n",
      "Total expenses: $1170.00\n",
      "Remaining bank account balance: $-203.83\n"
     ]
    },
    {
     "data": {
      "image/png": "[encoded data removed]",
      "text/plain": [
       "<Figure size 432x288 with 1 Axes>"
      ]
     },
     "metadata": {
      "needs_background": "light"
     },
     "output_type": "display_data"
    }
   ],
   "source": [
    "budget()"
   ]
  },
  {
   "cell_type": "code",
   "execution_count": 1,
   "id": "330d6eda",
   "metadata": {},
   "outputs": [],
   "source": [
    "\n",
    "import matplotlib.pyplot as plt\n",
    "import sqlite3\n",
    "\n",
    "conn = sqlite3.connect('budget')\n",
    "c = conn.cursor()\n",
    "\n",
    "def budget():\n",
    "    c.execute('''CREATE TABLE IF NOT EXISTS budget (category text, amount real, date text)''')\n",
    "    c.execute('''CREATE TABLE IF NOT EXISTS bank_account (total_amount real, date text)''')\n",
    "    c.execute(\"SELECT total_amount FROM bank_account\")\n",
    "    result = c.fetchone()\n",
    "    if result is None:\n",
    "        initial_amount = float(input('Enter your initial bank account amount: '))\n",
    "        c.execute(\"INSERT INTO bank_account VALUES (?,?)\", (initial_amount, 'Initial'))\n",
    "    else:\n",
    "        c.execute(\"SELECT total_amount FROM bank_account ORDER BY date DESC LIMIT 1\")\n",
    "        initial_amount = c.fetchone()[0]\n",
    "\n",
    "    expense_category = str(input('insert expense category: '))\n",
    "    expense_amount = float(input('insert amount in USD: '))\n",
    "    expense_date = str(input('insert date:b '))\n",
    "    values = (expense_category, expense_amount, expense_date)\n",
    "    c.execute('''INSERT INTO budget (category, amount, date)\n",
    "                  VALUES (?,?,?)''', values)\n",
    "    remaining_balance = initial_amount - expense_amount\n",
    "    c.execute(\"INSERT INTO bank_account VALUES (?,?)\", (remaining_balance, expense_date))\n",
    "    c.execute(\"SELECT date, sum(amount) FROM budget GROUP BY date\")\n",
    "    expenses = c.fetchall()\n",
    "    dates, amounts = zip(*expenses)\n",
    "    total_expenses = sum(expense[1] for expense in expenses)\n",
    "    print(f'Total expenses: ${total_expenses:.2f}')\n",
    "    c.execute(\"SELECT total_amount FROM bank_account ORDER BY date DESC LIMIT 1\")\n",
    "    remaining_balance = c.fetchone()[0]\n",
    "    print(f'Remaining bank account balance: ${remaining_balance:.2f}')\n",
    "    plt.bar(dates, amounts)\n",
    "    plt.xlabel('Date')\n",
    "    plt.ylabel('Expenses')\n",
    "    plt.title('Expenses over Time')\n",
    "    plt.xticks(rotation=270)\n",
    "    plt.show()\n",
    "    c.execute(\"SELECT category, sum(amount) FROM budget GROUP BY category\")\n",
    "    expenses_by_category = c.fetchall()\n",
    "    categories, amounts_by_category = zip(*expenses_by_category)\n",
    "\n",
    "    plt.bar(categories, amounts_by_category)\n",
    "    plt.xlabel('Category')\n",
    "    plt.ylabel('Expenses')\n",
    "    plt.title('Expenses by Category')\n",
    "    plt.xticks(rotation=270)\n",
    "    plt.show()\n",
    "    c.execute(\"SELECT date, total_amount FROM bank_account\")\n",
    "    bank_account_over_time = c.fetchall()\n",
    "    if bank_account_over_time:\n",
    "        bank_account_dates, bank_account_amount\n",
    "\n",
    "        bank_account_dates, bank_account_amounts = zip(*bank_account_over_time)\n",
    "        plt.plot(bank_account_dates, bank_account_amounts, marker='o')\n",
    "        plt.xlabel('Date')\n",
    "        plt.ylabel('Bank Account Balance')\n",
    "        plt.title('Bank Account Balance Over Time')\n",
    "        plt.xticks(rotation=270)\n",
    "        plt.show()\n",
    "    conn.commit()\n",
    "    \n",
    "\n",
    "\n",
    "\n",
    "\n",
    "\n",
    "\n",
    "\n"
   ]
  },
  {
   "cell_type": "code",
   "execution_count": 2,
   "id": "7026ddf5",
   "metadata": {},
   "outputs": [
    {
     "name": "stdout",
     "output_type": "stream",
     "text": [
      "Enter your initial bank account amount: 2176.17\n",
      "insert expense category: AMEX CC\n",
      "insert amount in USD: 150\n",
      "insert date:b 02/01/23\n",
      "Total expenses: $150.00\n",
      "Remaining bank account balance: $2176.17\n"
     ]
    },
    {
     "data": {
      "image/png": "[encoded data removed]",
      "text/plain": [
       "<Figure size 432x288 with 1 Axes>"
      ]
     },
     "metadata": {
      "needs_background": "light"
     },
     "output_type": "display_data"
    },
    {
     "data": {
      "image/png": "[encoded data removed]",
      "text/plain": [
       "<Figure size 432x288 with 1 Axes>"
      ]
     },
     "metadata": {
      "needs_background": "light"
     },
     "output_type": "display_data"
    },
    {
     "ename": "UnboundLocalError",
     "evalue": "local variable 'bank_account_dates' referenced before assignment",
     "output_type": "error",
     "traceback": [
      "\u001b[0;31m---------------------------------------------------------------------------\u001b[0m",
      "\u001b[0;31mUnboundLocalError\u001b[0m                         Traceback (most recent call last)",
      "\u001b[0;32m/tmp/ipykernel_10460/1370279478.py\u001b[0m in \u001b[0;36m<module>\u001b[0;34m\u001b[0m\n\u001b[0;32m----> 1\u001b[0;31m \u001b[0mbudget\u001b[0m\u001b[0;34m(\u001b[0m\u001b[0;34m)\u001b[0m\u001b[0;34m\u001b[0m\u001b[0;34m\u001b[0m\u001b[0m\n\u001b[0m",
      "\u001b[0;32m/tmp/ipykernel_10460/1205924406.py\u001b[0m in \u001b[0;36mbudget\u001b[0;34m()\u001b[0m\n\u001b[1;32m     52\u001b[0m     \u001b[0mbank_account_over_time\u001b[0m \u001b[0;34m=\u001b[0m \u001b[0mc\u001b[0m\u001b[0;34m.\u001b[0m\u001b[0mfetchall\u001b[0m\u001b[0;34m(\u001b[0m\u001b[0;34m)\u001b[0m\u001b[0;34m\u001b[0m\u001b[0;34m\u001b[0m\u001b[0m\n\u001b[1;32m     53\u001b[0m     \u001b[0;32mif\u001b[0m \u001b[0mbank_account_over_time\u001b[0m\u001b[0;34m:\u001b[0m\u001b[0;34m\u001b[0m\u001b[0;34m\u001b[0m\u001b[0m\n\u001b[0;32m---> 54\u001b[0;31m         \u001b[0mbank_account_dates\u001b[0m\u001b[0;34m,\u001b[0m \u001b[0mbank_account_amount\u001b[0m\u001b[0;34m\u001b[0m\u001b[0;34m\u001b[0m\u001b[0m\n\u001b[0m\u001b[1;32m     55\u001b[0m \u001b[0;34m\u001b[0m\u001b[0m\n\u001b[1;32m     56\u001b[0m         \u001b[0mbank_account_dates\u001b[0m\u001b[0;34m,\u001b[0m \u001b[0mbank_account_amounts\u001b[0m \u001b[0;34m=\u001b[0m \u001b[0mzip\u001b[0m\u001b[0;34m(\u001b[0m\u001b[0;34m*\u001b[0m\u001b[0mbank_account_over_time\u001b[0m\u001b[0;34m)\u001b[0m\u001b[0;34m\u001b[0m\u001b[0;34m\u001b[0m\u001b[0m\n",
      "\u001b[0;31mUnboundLocalError\u001b[0m: local variable 'bank_account_dates' referenced before assignment"
     ]
    }
   ],
   "source": [
    "budget()"
   ]
  },
  {
   "cell_type": "code",
   "execution_count": 12,
   "id": "7e3bee3d",
   "metadata": {},
   "outputs": [],
   "source": [
    "\n",
    "import matplotlib.pyplot as plt\n",
    "import sqlite3\n",
    "\n",
    "conn = sqlite3.connect('budget')\n",
    "c = conn.cursor()\n",
    "\n",
    "def budget():\n",
    "    c.execute('''CREATE TABLE IF NOT EXISTS budget (category text, amount real, date text)''')\n",
    "    c.execute('''CREATE TABLE IF NOT EXISTS bank_account (total_amount real, date text)''')\n",
    "    c.execute(\"SELECT total_amount FROM bank_account\")\n",
    "    result = c.fetchone()\n",
    "    if result is None:\n",
    "        initial_amount = float(input('Enter your initial bank account amount: '))\n",
    "        c.execute(\"INSERT INTO bank_account VALUES (?,?)\", (initial_amount, 'Initial'))\n",
    "    else:\n",
    "        c.execute(\"SELECT total_amount FROM bank_account\")\n",
    "        initial_amount = c.fetchone()[0]\n",
    "       \n",
    "\n",
    "    expense_category = str(input('insert expense category: '))\n",
    "    expense_amount = float(input('insert amount in USD: '))\n",
    "    expense_date = str(input('insert date: '))\n",
    "    values = (expense_category, expense_amount, expense_date)\n",
    "    c.execute('''INSERT INTO budget (category, amount, date)\n",
    "                  VALUES (?,?,?)''', values)\n",
    "    c.execute(\"SELECT total_amount FROM bank_account ORDER BY date DESC LIMIT 1\")\n",
    "    remaining_balance = c.fetchone()[0] - expense_amount\n",
    "    c.execute(\"INSERT INTO bank_account VALUES (?,?)\", (remaining_balance, expense_date))\n",
    "    c.execute(\"SELECT date, sum(amount) FROM budget GROUP BY date\")\n",
    "    expenses = c.fetchall()\n",
    "    dates, amounts = zip(*expenses)\n",
    "    total_expenses = sum(expense[1] for expense in expenses)\n",
    "    print(f'Total expenses: ${total_expenses:.2f}')\n",
    "    c.execute(\"SELECT total_amount FROM bank_account ORDER BY date DESC LIMIT 1\")\n",
    "    remaining_balance = c.fetchone()[0]\n",
    "    print(f'Remaining bank account balance: ${remaining_balance:.2f}')\n",
    "    plt.bar(dates, amounts)\n",
    "    plt.xlabel('Date')\n",
    "    plt.ylabel('Expenses')\n",
    "    plt.title('Expenses over Time')\n",
    "    plt.xticks(rotation=270)\n",
    "    plt.show()\n",
    "    c.execute(\"SELECT category, sum(amount) FROM budget GROUP BY category\")\n",
    "    expenses_by_category = c.fetchall()\n",
    "    categories, amounts_by_category = zip(*expenses_by_category)\n",
    "\n",
    "    plt.bar(categories, amounts_by_category)\n",
    "    plt.xlabel('Category')\n",
    "    plt.ylabel('Expenses')\n",
    "    plt.title('Expenses by Category')\n",
    "    plt.xticks(rotation=270)\n",
    "    plt.show()\n",
    "    c.execute(\"SELECT date, total_amount FROM bank_account\")\n",
    "    bank_account_over_time = c.fetchall()\n",
    "    if bank_account_over_time:\n",
    "        bank_account_dates, bank_account_amounts = zip(*bank_account_over_time)\n",
    "        plt.plot(bank_account_dates, bank_account_amounts)\n",
    "        plt.xlabel('Date')\n",
    "        plt.ylabel('Bank Account Balance')\n",
    "        plt.title('Bank Account Balance Over Time')\n",
    "        plt.xticks(rotation=270)\n",
    "        plt.show()\n",
    "    conn.commit()"
   ]
  },
  {
   "cell_type": "code",
   "execution_count": 13,
   "id": "244dd70d",
   "metadata": {},
   "outputs": [
    {
     "name": "stdout",
     "output_type": "stream",
     "text": [
      "insert expense category: nothing\n",
      "insert amount in USD: 0\n",
      "insert date: today\n",
      "Total expenses: $1170.00\n",
      "Remaining bank account balance: $1006.17\n"
     ]
    },
    {
     "data": {
      "image/png": "[encoded data removed]",
      "text/plain": [
       "<Figure size 432x288 with 1 Axes>"
      ]
     },
     "metadata": {
      "needs_background": "light"
     },
     "output_type": "display_data"
    },
    {
     "data": {
      "image/png": "[encoded data removed]",
      "text/plain": [
       "<Figure size 432x288 with 1 Axes>"
      ]
     },
     "metadata": {
      "needs_background": "light"
     },
     "output_type": "display_data"
    },
    {
     "data": {
      "image/png": "[encoded data removed]",
      "text/plain": [
       "<Figure size 432x288 with 1 Axes>"
      ]
     },
     "metadata": {
      "needs_background": "light"
     },
     "output_type": "display_data"
    }
   ],
   "source": [
    "budget()"
   ]
  },
  {
   "cell_type": "code",
   "execution_count": null,
   "id": "f4690600",
   "metadata": {},
   "outputs": [],
   "source": []
  }
 ],
 "metadata": {
  "kernelspec": {
   "display_name": "Python 3 (ipykernel)",
   "language": "python",
   "name": "python3"
  },
  "language_info": {
   "codemirror_mode": {
    "name": "ipython",
    "version": 3
   },
   "file_extension": ".py",
   "mimetype": "text/x-python",
   "name": "python",
   "nbconvert_exporter": "python",
   "pygments_lexer": "ipython3",
   "version": "3.10.6"
  }
 },
 "nbformat": 4,
 "nbformat_minor": 5
}
